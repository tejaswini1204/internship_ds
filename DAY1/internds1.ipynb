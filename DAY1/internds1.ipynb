{
  "nbformat": 4,
  "nbformat_minor": 0,
  "metadata": {
    "colab": {
      "provenance": []
    },
    "kernelspec": {
      "name": "python3",
      "display_name": "Python 3"
    },
    "language_info": {
      "name": "python"
    }
  },
  "cells": [
    {
      "cell_type": "code",
      "execution_count": null,
      "metadata": {
        "colab": {
          "base_uri": "https://localhost:8080/"
        },
        "id": "4sB3pKI4_qfI",
        "outputId": "81eff2a1-4ad6-4256-b72b-42e7733b8d26"
      },
      "outputs": [
        {
          "output_type": "stream",
          "name": "stdout",
          "text": [
            "<class 'int'>\n",
            "<class 'str'>\n",
            "11\n",
            "92\n"
          ]
        }
      ],
      "source": [
        "x=5\n",
        "m=6\n",
        "y=\"9\"\n",
        "z=\"2\"\n",
        "print(type(x))\n",
        "print(type(y))\n",
        "print(x+m)\n",
        "print(y+z)"
      ]
    },
    {
      "cell_type": "code",
      "source": [
        "#typecasting\n",
        "a=int(z)\n",
        "print(a+m)\n",
        "#a=int(10a) is not allowed\n",
        "'''is used for multi-line commenting as well\n",
        "like this\n",
        "and this\n",
        "'''"
      ],
      "metadata": {
        "colab": {
          "base_uri": "https://localhost:8080/",
          "height": 53
        },
        "id": "oxiriiFSCRwJ",
        "outputId": "2213d54f-d2e2-49ad-8863-b4ade800b8d1"
      },
      "execution_count": null,
      "outputs": [
        {
          "output_type": "stream",
          "name": "stdout",
          "text": [
            "8\n"
          ]
        },
        {
          "output_type": "execute_result",
          "data": {
            "text/plain": [
              "'is used for multi-line commenting as well\\nlike this \\nand this\\n'"
            ],
            "application/vnd.google.colaboratory.intrinsic+json": {
              "type": "string"
            }
          },
          "metadata": {},
          "execution_count": 2
        }
      ]
    },
    {
      "cell_type": "code",
      "source": [
        "#list\n",
        "l1=['hi',1,7,'list',6.7,9.5,[3,59,'hello']]\n",
        "l2=l1[6][2]\n",
        "print(l2)\n",
        "length=len(l1)\n",
        "print(length)"
      ],
      "metadata": {
        "colab": {
          "base_uri": "https://localhost:8080/"
        },
        "id": "rJc0bFCDCkfS",
        "outputId": "5d47cdea-8a10-49af-9263-84f2ef45ca39"
      },
      "execution_count": null,
      "outputs": [
        {
          "output_type": "stream",
          "name": "stdout",
          "text": [
            "hello\n",
            "7\n"
          ]
        }
      ]
    },
    {
      "cell_type": "code",
      "source": [
        "#python program to illustrate a list\n",
        "# create a empty list\n",
        "nums=[]\n",
        "#appending  data in list\n",
        "nums.append(21)\n",
        "nums.append(40.5)\n",
        "nums.append(\"string\")\n",
        "print(nums)\n"
      ],
      "metadata": {
        "colab": {
          "base_uri": "https://localhost:8080/"
        },
        "id": "w29WUbrnFCEM",
        "outputId": "922f8946-bfdd-472a-fcfa-572467bacade"
      },
      "execution_count": null,
      "outputs": [
        {
          "output_type": "stream",
          "name": "stdout",
          "text": [
            "[21, 40.5, 'string']\n"
          ]
        }
      ]
    },
    {
      "cell_type": "code",
      "source": [
        "#tuple\n",
        "t1=(1,2,3,4)\n",
        "print(t1)"
      ],
      "metadata": {
        "colab": {
          "base_uri": "https://localhost:8080/"
        },
        "id": "sNHgpAskFYeA",
        "outputId": "04f874af-78cd-47b6-9444-e8124b1c6596"
      },
      "execution_count": null,
      "outputs": [
        {
          "output_type": "stream",
          "name": "stdout",
          "text": [
            "(1, 2, 3, 4)\n"
          ]
        }
      ]
    },
    {
      "cell_type": "code",
      "source": [
        "#dictionary\n",
        "d1={\"name\":\"tejaswini\",\"age\":\"21\"}\n",
        "print(d1)\n",
        "print(type(d1))\n",
        "print(d1.keys())\n",
        "print(d1.items())\n",
        "print(d1.values())\n",
        "print(d1[\"name\"])\n"
      ],
      "metadata": {
        "colab": {
          "base_uri": "https://localhost:8080/"
        },
        "id": "ihOF4PhaGCoa",
        "outputId": "03646cc5-9135-41b5-8ff9-89bf90b658a4"
      },
      "execution_count": null,
      "outputs": [
        {
          "output_type": "stream",
          "name": "stdout",
          "text": [
            "{'name': 'tejaswini', 'age': '21'}\n",
            "<class 'dict'>\n",
            "dict_keys(['name', 'age'])\n",
            "dict_items([('name', 'tejaswini'), ('age', '21')])\n",
            "dict_values(['tejaswini', '21'])\n",
            "tejaswini\n"
          ]
        }
      ]
    },
    {
      "cell_type": "code",
      "source": [
        "#accepting integer from the users\n",
        "#the return type of input()fuction is string\n",
        "#so we need to convert the input to integer\n",
        "num1=int(input(\"enter num 1:\"))\n",
        "num2=int(input(\"enter num 2:\"))\n",
        "num3=num1+num2\n",
        "print(\"product is:\", num3)\n",
        "'''\n",
        "python program to illustrate\n",
        "selection statement\n",
        "'''\n",
        "num1=int (input(\"enter a num:\"))\n",
        "if (num1>12):\n",
        "  print ('num is good')\n",
        "elif (num1>35):\n",
        "  print ('num is good')\n",
        "else:\n",
        "   print ('num is great')\n",
        "\n"
      ],
      "metadata": {
        "colab": {
          "base_uri": "https://localhost:8080/"
        },
        "id": "8Ru0YJnQHHuq",
        "outputId": "2a720afc-80aa-4085-a739-7967ff0db200"
      },
      "execution_count": null,
      "outputs": [
        {
          "output_type": "stream",
          "name": "stdout",
          "text": [
            "enter num 1:9\n",
            "enter num 2:8\n",
            "product is: 17\n",
            "enter a num:24\n",
            "num is good\n"
          ]
        }
      ]
    },
    {
      "cell_type": "code",
      "source": [],
      "metadata": {
        "id": "X5sciYO9JUYe"
      },
      "execution_count": null,
      "outputs": []
    }
  ]
}