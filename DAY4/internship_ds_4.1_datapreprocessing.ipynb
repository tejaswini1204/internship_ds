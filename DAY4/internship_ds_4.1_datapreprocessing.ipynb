{
 "cells": [
  {
   "cell_type": "code",
   "execution_count": 1,
   "metadata": {},
   "outputs": [
    {
     "name": "stdout",
     "output_type": "stream",
     "text": [
      "    Name   Age    Salary  Dept_HR  Dept_IT  Dept_Marketing\n",
      "0   John  0.30  0.333333    False     True           False\n",
      "1   Jane  1.00  0.250000     True    False           False\n",
      "2    Doe  0.45  0.000000    False    False            True\n",
      "3  Alice  0.50  1.000000    False     True           False\n",
      "4    Bob  0.00  0.166667     True    False           False\n"
     ]
    },
    {
     "data": {
      "text/plain": [
       "\"\\nThe provided code snippet performs basic data preprocessing on a sample dataset using pandas and scikit-learn:\\n\\n1. **Handling Missing Data**:\\n   - Fills missing values in 'Age' with the mean and in 'Salary' with the median.\\n\\n2. **Converting Data Types**:\\n   - Converts 'Age' and 'Salary' columns to numeric types.\\n\\n3. **Normalization**:\\n   - Normalizes 'Age' and 'Salary' columns using Min-Max scaling to range [0, 1].\\n\\n4. **Encoding Categorical Data**:\\n   - Converts categorical variable 'Department' into dummy variables.\\n\\nThis process ensures the dataset is ready for further analysis or modeling by addressing missing values, standardizing data types, scaling numeric features, and encoding categorical variables.\\n\""
      ]
     },
     "execution_count": 1,
     "metadata": {},
     "output_type": "execute_result"
    }
   ],
   "source": [
    "import pandas as pd\n",
    "import numpy as np\n",
    "from sklearn.preprocessing import MinMaxScaler\n",
    "\n",
    "# Sample data\n",
    "data = {\n",
    "    'Name': ['John', 'Jane', 'Doe', 'Alice', 'Bob'],\n",
    "    'Age': [28, 35, None, 30, 25],\n",
    "    'Salary': [50000, None, 40000, 70000, 45000],\n",
    "    'Department': ['IT', 'HR', 'Marketing', 'IT', 'HR']\n",
    "}\n",
    "\n",
    "df = pd.DataFrame(data)\n",
    "\n",
    "# Fill missing Age with mean age\n",
    "df['Age'].fillna(df['Age'].mean(), inplace=True)\n",
    "\n",
    "# Fill missing Salary with median salary\n",
    "df['Salary'].fillna(df['Salary'].median(), inplace=True)\n",
    "\n",
    "# Convert Age and Salary to numeric types if they are not already\n",
    "df['Age'] = pd.to_numeric(df['Age'])\n",
    "df['Salary'] = pd.to_numeric(df['Salary'])\n",
    "\n",
    "# Normalize Age and Salary\n",
    "scaler = MinMaxScaler()\n",
    "df[['Age', 'Salary']] = scaler.fit_transform(df[['Age', 'Salary']])\n",
    "\n",
    "# Convert the Department column into dummy variables\n",
    "df = pd.get_dummies(df, columns=['Department'], prefix='Dept')\n",
    "\n",
    "print(df)\n",
    "'''\n",
    "The provided code snippet performs basic data preprocessing on a sample dataset using pandas and scikit-learn:\n",
    "\n",
    "1. **Handling Missing Data**:\n",
    "   - Fills missing values in 'Age' with the mean and in 'Salary' with the median.\n",
    "\n",
    "2. **Converting Data Types**:\n",
    "   - Converts 'Age' and 'Salary' columns to numeric types.\n",
    "\n",
    "3. **Normalization**:\n",
    "   - Normalizes 'Age' and 'Salary' columns using Min-Max scaling to range [0, 1].\n",
    "\n",
    "4. **Encoding Categorical Data**:\n",
    "   - Converts categorical variable 'Department' into dummy variables.\n",
    "\n",
    "This process ensures the dataset is ready for further analysis or modeling by addressing missing values, standardizing data types, scaling numeric features, and encoding categorical variables.\n",
    "'''\n"
   ]
  },
  {
   "cell_type": "markdown",
   "metadata": {},
   "source": [
    "Binarisation\n",
    "\n",
    "In the below example, we used threshold value = 0.5 and that is why, all the values\n",
    "above 0.5 would be converted to 1, and all the values below 0.5 would be converted to 0."
   ]
  },
  {
   "cell_type": "code",
   "execution_count": 2,
   "metadata": {},
   "outputs": [
    {
     "name": "stdout",
     "output_type": "stream",
     "text": [
      "\n",
      "Binarized data:\n",
      " [[1. 0. 1.]\n",
      " [0. 1. 1.]\n",
      " [0. 0. 1.]\n",
      " [1. 1. 0.]]\n"
     ]
    },
    {
     "data": {
      "text/plain": [
       "'\\nThe provided code snippet demonstrates how to perform binarization on a numerical dataset using scikit-learn\\'s `preprocessing.Binarizer` class. Here’s a detailed explanation of each part:\\n\\n1. **Importing Libraries**:\\n   - `import numpy as np`: Imports the NumPy library under the alias `np`, which provides support for large, multi-dimensional arrays and matrices, along with a collection of mathematical functions to operate on these arrays.\\n   - `from sklearn import preprocessing`: Imports the `preprocessing` module from scikit-learn, which includes utilities for data preprocessing and feature engineering.\\n\\n2. **Defining Input Data**:\\n   - `Input_data = np.array([[2.1, -1.9, 5.5],\\n     [-1.5, 2.4, 3.5],\\n     [0.5, -7.9, 5.6],\\n     [5.9, 2.3, -5.8]])`: Defines a 2D NumPy array (`Input_data`) containing numerical values. Each row represents a sample (observation) and each column represents a feature.\\n\\n3. **Binarization**:\\n   - `preprocessing.Binarizer(threshold=0.5)`: Creates an instance of the `Binarizer` class from scikit-learn\\'s `preprocessing` module. The `threshold=0.5` parameter specifies the threshold value. Any value in `Input_data` greater than `0.5` will be transformed to `1`, and any value less than or equal to `0.5` will be transformed to `0`.\\n   - `.transform(Input_data)`: Applies the binarization transformation to `Input_data` using the specified threshold (`0.5`). This converts each numerical value in `Input_data` into a binary value (either `0` or `1`), based on whether it exceeds the threshold.\\n\\n4. **Printing Binarized Data**:\\n   - `print(\"\\nBinarized data:\\n\", data_binarized)`: Prints the binarized data (`data_binarized`). This output displays the transformed array where each element has been replaced by `1` or `0` based on whether it exceeds `0.5`.\\n\\n**Explanation of Binarization**:\\n   Binarization is a common preprocessing technique used to convert numeric data into a binary format. In this case:\\n   - Values greater than `0.5` are converted to `1`.\\n   - Values less than or equal to `0.5` are converted to `0`.\\n\\nThis transformation is useful in scenarios where only the presence or absence of a feature is relevant, rather than its specific numeric value. It\\'s often applied in machine learning tasks where algorithms expect binary inputs or when certain thresholds need to be established for decision-making processes.\\n'"
      ]
     },
     "execution_count": 2,
     "metadata": {},
     "output_type": "execute_result"
    }
   ],
   "source": [
    "#Binarisation\n",
    "import numpy as np\n",
    "from sklearn import preprocessing\n",
    "Input_data = np.array([[2.1, -1.9, 5.5],\n",
    " [-1.5, 2.4, 3.5],\n",
    " [0.5, -7.9, 5.6],\n",
    " [5.9, 2.3, -5.8]])\n",
    "data_binarized = preprocessing.Binarizer(threshold=0.5).transform(Input_data)\n",
    "print(\"\\nBinarized data:\\n\", data_binarized)\n",
    "'''\n",
    "The provided code snippet demonstrates how to perform binarization on a numerical dataset using scikit-learn's `preprocessing.Binarizer` class. Here’s a detailed explanation of each part:\n",
    "\n",
    "1. **Importing Libraries**:\n",
    "   - `import numpy as np`: Imports the NumPy library under the alias `np`, which provides support for large, multi-dimensional arrays and matrices, along with a collection of mathematical functions to operate on these arrays.\n",
    "   - `from sklearn import preprocessing`: Imports the `preprocessing` module from scikit-learn, which includes utilities for data preprocessing and feature engineering.\n",
    "\n",
    "2. **Defining Input Data**:\n",
    "   - `Input_data = np.array([[2.1, -1.9, 5.5],\n",
    "     [-1.5, 2.4, 3.5],\n",
    "     [0.5, -7.9, 5.6],\n",
    "     [5.9, 2.3, -5.8]])`: Defines a 2D NumPy array (`Input_data`) containing numerical values. Each row represents a sample (observation) and each column represents a feature.\n",
    "\n",
    "3. **Binarization**:\n",
    "   - `preprocessing.Binarizer(threshold=0.5)`: Creates an instance of the `Binarizer` class from scikit-learn's `preprocessing` module. The `threshold=0.5` parameter specifies the threshold value. Any value in `Input_data` greater than `0.5` will be transformed to `1`, and any value less than or equal to `0.5` will be transformed to `0`.\n",
    "   - `.transform(Input_data)`: Applies the binarization transformation to `Input_data` using the specified threshold (`0.5`). This converts each numerical value in `Input_data` into a binary value (either `0` or `1`), based on whether it exceeds the threshold.\n",
    "\n",
    "4. **Printing Binarized Data**:\n",
    "   - `print(\"\\nBinarized data:\\n\", data_binarized)`: Prints the binarized data (`data_binarized`). This output displays the transformed array where each element has been replaced by `1` or `0` based on whether it exceeds `0.5`.\n",
    "\n",
    "**Explanation of Binarization**:\n",
    "   Binarization is a common preprocessing technique used to convert numeric data into a binary format. In this case:\n",
    "   - Values greater than `0.5` are converted to `1`.\n",
    "   - Values less than or equal to `0.5` are converted to `0`.\n",
    "\n",
    "This transformation is useful in scenarios where only the presence or absence of a feature is relevant, rather than its specific numeric value. It's often applied in machine learning tasks where algorithms expect binary inputs or when certain thresholds need to be established for decision-making processes.\n",
    "'''"
   ]
  },
  {
   "cell_type": "markdown",
   "metadata": {},
   "source": [
    "Mean Removal\n",
    "This technique is used to eliminate the mean from feature vector so that every feature\n",
    "centered on zero."
   ]
  },
  {
   "cell_type": "code",
   "execution_count": 3,
   "metadata": {},
   "outputs": [
    {
     "name": "stdout",
     "output_type": "stream",
     "text": [
      "Mean = [ 1.75  -1.275  2.2  ]\n",
      "Stddeviation =  [2.71431391 4.20022321 4.69414529]\n",
      "Mean_removed = [1.11022302e-16 0.00000000e+00 0.00000000e+00]\n",
      "Stddeviation_removed = [1. 1. 1.]\n"
     ]
    },
    {
     "data": {
      "text/plain": [
       "\"\\nThe code snippet demonstrates mean removal (standardization) using scikit-learn's `preprocessing.scale` function:\\n\\n1. **Input Data and Statistics**:\\n   - Defines `input_data`, a 2D NumPy array with numerical values representing samples and features.\\n   - Prints the mean and standard deviation of each feature in `input_data`.\\n\\n2. **Mean Removal (Standardization)**:\\n   - Uses `preprocessing.scale(input_data)` to transform `input_data` such that each feature has a mean of `0` and standard deviation of `1`.\\n   - Prints the mean and standard deviation of each feature in the standardized data (`data_scaled`).\\n\\n**Explanation**:\\n   Mean removal (standardization) adjusts the data distribution to have a mean of `0` and standard deviation of `1`. This preprocessing step is essential for algorithms that assume normally distributed data or require consistent feature scaling. It improves model performance and facilitates comparison between different features in the dataset.\\n\""
      ]
     },
     "execution_count": 3,
     "metadata": {},
     "output_type": "execute_result"
    }
   ],
   "source": [
    "#Mean Removal\n",
    "import numpy as np\n",
    "from sklearn import preprocessing\n",
    "input_data = np.array([[2.1, -1.9, 5.5],\n",
    "[-1.5, 2.4, 3.5],\n",
    " [0.5, -7.9, 5.6],\n",
    " [5.9, 2.3, -5.8]])\n",
    "#displaying the mean and the standard deviation of the input data\n",
    "print(\"Mean =\", input_data.mean(axis=0))\n",
    "print(\"Stddeviation = \", input_data.std(axis=0))\n",
    "#Removing the mean and the standard deviation of the input data\n",
    "data_scaled = preprocessing.scale(input_data)\n",
    "print(\"Mean_removed =\", data_scaled.mean(axis=0))\n",
    "print(\"Stddeviation_removed =\", data_scaled.std(axis=0))\n",
    "'''\n",
    "The code snippet demonstrates mean removal (standardization) using scikit-learn's `preprocessing.scale` function:\n",
    "\n",
    "1. **Input Data and Statistics**:\n",
    "   - Defines `input_data`, a 2D NumPy array with numerical values representing samples and features.\n",
    "   - Prints the mean and standard deviation of each feature in `input_data`.\n",
    "\n",
    "2. **Mean Removal (Standardization)**:\n",
    "   - Uses `preprocessing.scale(input_data)` to transform `input_data` such that each feature has a mean of `0` and standard deviation of `1`.\n",
    "   - Prints the mean and standard deviation of each feature in the standardized data (`data_scaled`).\n",
    "\n",
    "**Explanation**:\n",
    "   Mean removal (standardization) adjusts the data distribution to have a mean of `0` and standard deviation of `1`. This preprocessing step is essential for algorithms that assume normally distributed data or require consistent feature scaling. It improves model performance and facilitates comparison between different features in the dataset.\n",
    "'''"
   ]
  },
  {
   "cell_type": "markdown",
   "metadata": {},
   "source": [
    "Scaling\n",
    "We use this preprocessing technique for scaling the feature vectors. Scaling of feature\n",
    "vectors is important, because the features should not be synthetically large or small."
   ]
  },
  {
   "cell_type": "code",
   "execution_count": 4,
   "metadata": {},
   "outputs": [
    {
     "name": "stdout",
     "output_type": "stream",
     "text": [
      "\n",
      "Min max scaled data:\n",
      " [[0.48648649 0.58252427 0.99122807]\n",
      " [0.         1.         0.81578947]\n",
      " [0.27027027 0.         1.        ]\n",
      " [1.         0.99029126 0.        ]]\n"
     ]
    },
    {
     "data": {
      "text/plain": [
       "\"\\nThe code snippet demonstrates Min-Max scaling using scikit-learn's `preprocessing.MinMaxScaler`:\\n\\n1. **Input Data**:\\n   - Defines `input_data`, a 2D NumPy array with numerical values representing samples and features.\\n\\n2. **Min-Max Scaling**:\\n   - Initializes `data_scaler_minmax` with `MinMaxScaler(feature_range=(0,1))`, setting the range for scaled values to [0, 1].\\n   - Applies `fit_transform(input_data)` to compute and transform `input_data` into `data_scaled_minmax`, where each feature is scaled to the specified range.\\n\\n3. **Output**:\\n   - Prints `data_scaled_minmax`, displaying the transformed data with each feature scaled to [0, 1].\\n\\n**Explanation**:\\n   Min-Max scaling adjusts data such that each feature falls within a specified range (here, [0, 1]). This normalization technique is useful for algorithms sensitive to varying scales across features, ensuring uniformity and aiding in accurate model training and interpretation.\\n\""
      ]
     },
     "execution_count": 4,
     "metadata": {},
     "output_type": "execute_result"
    }
   ],
   "source": [
    "#Scaling\n",
    "import numpy as np\n",
    "from sklearn import preprocessing\n",
    "input_data = np.array([[2.1, -1.9, 5.5],\n",
    "\n",
    " [-1.5, 2.4, 3.5],\n",
    " [0.5, -7.9, 5.6],\n",
    " [5.9, 2.3, -5.8]])\n",
    "data_scaler_minmax = preprocessing.MinMaxScaler(feature_range=(0,1))\n",
    "data_scaled_minmax = data_scaler_minmax.fit_transform(input_data)\n",
    "print (\"\\nMin max scaled data:\\n\", data_scaled_minmax)\n",
    "'''\n",
    "The code snippet demonstrates Min-Max scaling using scikit-learn's `preprocessing.MinMaxScaler`:\n",
    "\n",
    "1. **Input Data**:\n",
    "   - Defines `input_data`, a 2D NumPy array with numerical values representing samples and features.\n",
    "\n",
    "2. **Min-Max Scaling**:\n",
    "   - Initializes `data_scaler_minmax` with `MinMaxScaler(feature_range=(0,1))`, setting the range for scaled values to [0, 1].\n",
    "   - Applies `fit_transform(input_data)` to compute and transform `input_data` into `data_scaled_minmax`, where each feature is scaled to the specified range.\n",
    "\n",
    "3. **Output**:\n",
    "   - Prints `data_scaled_minmax`, displaying the transformed data with each feature scaled to [0, 1].\n",
    "\n",
    "**Explanation**:\n",
    "   Min-Max scaling adjusts data such that each feature falls within a specified range (here, [0, 1]). This normalization technique is useful for algorithms sensitive to varying scales across features, ensuring uniformity and aiding in accurate model training and interpretation.\n",
    "'''"
   ]
  },
  {
   "cell_type": "code",
   "execution_count": 5,
   "metadata": {},
   "outputs": [
    {
     "name": "stdout",
     "output_type": "stream",
     "text": [
      "\n",
      "L1 normalized data:\n",
      " [[ 0.22105263 -0.2         0.57894737]\n",
      " [-0.2027027   0.32432432  0.47297297]\n",
      " [ 0.03571429 -0.56428571  0.4       ]\n",
      " [ 0.42142857  0.16428571 -0.41428571]]\n"
     ]
    },
    {
     "data": {
      "text/plain": [
       "\"\\nThe code snippet demonstrates L1 normalization using scikit-learn's `preprocessing.normalize` function:\\n\\n1. **Input Data**:\\n   - Defines `input_data`, a 2D NumPy array containing numerical values representing samples and features.\\n\\n2. **L1 Normalization**:\\n   - Applies `preprocessing.normalize(input_data, norm='l1')` to normalize each sample (row) in `input_data` using L1 normalization. L1 normalization calculates the norm by summing the absolute values of each feature for a sample and then scales each feature proportionally so that the sum of absolute values equals 1.\\n\\n3. **Output**:\\n   - Prints `data_normalized_l1`, displaying the normalized data where each row's values sum up to 1 (L1 norm).\\n\\n**Explanation**:\\n   L1 normalization, also known as least absolute deviations or Manhattan normalization, scales each sample individually such that the sum of absolute values of its features equals 1. This technique is useful when data needs to be transformed into a probability distribution or when the direction of the vector matters more than its magnitude. L1 normalization ensures that each sample is weighted equally based on the absolute contribution of its features.\\n\""
      ]
     },
     "execution_count": 5,
     "metadata": {},
     "output_type": "execute_result"
    }
   ],
   "source": [
    "#L1 Normalistion\n",
    "import numpy as np\n",
    "from sklearn import preprocessing\n",
    "input_data = np.array([[2.1, -1.9, 5.5],\n",
    " [-1.5, 2.4, 3.5],\n",
    " [0.5, -7.9, 5.6],\n",
    " [5.9, 2.3, -5.8]])\n",
    "data_normalized_l1 = preprocessing.normalize(input_data, norm='l1')\n",
    "print(\"\\nL1 normalized data:\\n\", data_normalized_l1)\n",
    "'''\n",
    "The code snippet demonstrates L1 normalization using scikit-learn's `preprocessing.normalize` function:\n",
    "\n",
    "1. **Input Data**:\n",
    "   - Defines `input_data`, a 2D NumPy array containing numerical values representing samples and features.\n",
    "\n",
    "2. **L1 Normalization**:\n",
    "   - Applies `preprocessing.normalize(input_data, norm='l1')` to normalize each sample (row) in `input_data` using L1 normalization. L1 normalization calculates the norm by summing the absolute values of each feature for a sample and then scales each feature proportionally so that the sum of absolute values equals 1.\n",
    "\n",
    "3. **Output**:\n",
    "   - Prints `data_normalized_l1`, displaying the normalized data where each row's values sum up to 1 (L1 norm).\n",
    "\n",
    "**Explanation**:\n",
    "   L1 normalization, also known as least absolute deviations or Manhattan normalization, scales each sample individually such that the sum of absolute values of its features equals 1. This technique is useful when data needs to be transformed into a probability distribution or when the direction of the vector matters more than its magnitude. L1 normalization ensures that each sample is weighted equally based on the absolute contribution of its features.\n",
    "'''"
   ]
  },
  {
   "cell_type": "code",
   "execution_count": 6,
   "metadata": {},
   "outputs": [
    {
     "name": "stdout",
     "output_type": "stream",
     "text": [
      "\n",
      "L2 normalized data:\n",
      " [[ 0.33946114 -0.30713151  0.88906489]\n",
      " [-0.33325106  0.53320169  0.7775858 ]\n",
      " [ 0.05156558 -0.81473612  0.57753446]\n",
      " [ 0.68706914  0.26784051 -0.6754239 ]]\n"
     ]
    },
    {
     "data": {
      "text/plain": [
       "\"\\nThe provided code snippet demonstrates L2 normalization using scikit-learn's `preprocessing.normalize` function:\\n\\n1. **Input Data**:\\n   - Defines `input_data`, a 2D NumPy array containing numerical values representing samples and features.\\n\\n2. **L2 Normalization**:\\n   - Applies `preprocessing.normalize(input_data, norm='l2')` to normalize each sample (row) in `input_data` using L2 normalization. L2 normalization calculates the norm by summing the squares of each feature for a sample and then scales each feature proportionally so that the Euclidean norm (L2 norm) equals 1.\\n\\n3. **Output**:\\n   - Prints `data_normalized_l2`, displaying the normalized data where each row's Euclidean norm (L2 norm) equals 1.\\n\\n**Explanation**:\\n   L2 normalization, also known as Euclidean normalization, scales each sample individually such that the Euclidean norm (magnitude) of its feature vector equals 1. This technique is useful for ensuring that data lies on the unit hypersphere, making it invariant to the scale of individual samples. L2 normalization is commonly used in machine learning algorithms that rely on distances or similarity measures between samples.\\n\""
      ]
     },
     "execution_count": 6,
     "metadata": {},
     "output_type": "execute_result"
    }
   ],
   "source": [
    "#L2 Normalisation\n",
    "import numpy as np\n",
    "from sklearn import preprocessing\n",
    "input_data = np.array([[2.1, -1.9, 5.5],\n",
    " [-1.5, 2.4, 3.5],\n",
    " [0.5, -7.9, 5.6],\n",
    " [5.9, 2.3, -5.8]])\n",
    "data_normalized_l2 = preprocessing.normalize(input_data, norm='l2')\n",
    "print(\"\\nL2 normalized data:\\n\", data_normalized_l2)\n",
    "'''\n",
    "The provided code snippet demonstrates L2 normalization using scikit-learn's `preprocessing.normalize` function:\n",
    "\n",
    "1. **Input Data**:\n",
    "   - Defines `input_data`, a 2D NumPy array containing numerical values representing samples and features.\n",
    "\n",
    "2. **L2 Normalization**:\n",
    "   - Applies `preprocessing.normalize(input_data, norm='l2')` to normalize each sample (row) in `input_data` using L2 normalization. L2 normalization calculates the norm by summing the squares of each feature for a sample and then scales each feature proportionally so that the Euclidean norm (L2 norm) equals 1.\n",
    "\n",
    "3. **Output**:\n",
    "   - Prints `data_normalized_l2`, displaying the normalized data where each row's Euclidean norm (L2 norm) equals 1.\n",
    "\n",
    "**Explanation**:\n",
    "   L2 normalization, also known as Euclidean normalization, scales each sample individually such that the Euclidean norm (magnitude) of its feature vector equals 1. This technique is useful for ensuring that data lies on the unit hypersphere, making it invariant to the scale of individual samples. L2 normalization is commonly used in machine learning algorithms that rely on distances or similarity measures between samples.\n",
    "'''"
   ]
  },
  {
   "cell_type": "code",
   "execution_count": 7,
   "metadata": {},
   "outputs": [
    {
     "name": "stdout",
     "output_type": "stream",
     "text": [
      "<class 'pandas.core.frame.DataFrame'>\n",
      "RangeIndex: 1309 entries, 0 to 1308\n",
      "Data columns (total 13 columns):\n",
      " #   Column     Non-Null Count  Dtype   \n",
      "---  ------     --------------  -----   \n",
      " 0   pclass     1309 non-null   float64 \n",
      " 1   name       1309 non-null   object  \n",
      " 2   sex        1309 non-null   category\n",
      " 3   age        1046 non-null   float64 \n",
      " 4   sibsp      1309 non-null   float64 \n",
      " 5   parch      1309 non-null   float64 \n",
      " 6   ticket     1309 non-null   object  \n",
      " 7   fare       1308 non-null   float64 \n",
      " 8   cabin      295 non-null    object  \n",
      " 9   embarked   1307 non-null   category\n",
      " 10  boat       486 non-null    object  \n",
      " 11  body       121 non-null    float64 \n",
      " 12  home.dest  745 non-null    object  \n",
      "dtypes: category(2), float64(6), object(5)\n",
      "memory usage: 115.4+ KB\n"
     ]
    },
    {
     "name": "stderr",
     "output_type": "stream",
     "text": [
      "C:\\Users\\hetan\\AppData\\Local\\Packages\\PythonSoftwareFoundation.Python.3.11_qbz5n2kfra8p0\\LocalCache\\local-packages\\Python311\\site-packages\\sklearn\\datasets\\_openml.py:1022: FutureWarning: The default value of `parser` will change from `'liac-arff'` to `'auto'` in 1.4. You can set `parser='auto'` to silence this warning. Therefore, an `ImportError` will be raised from 1.4 if the dataset is dense and pandas is not installed. Note that the pandas parser may return different data types. See the Notes Section in fetch_openml's API doc for details.\n",
      "  warn(\n"
     ]
    },
    {
     "data": {
      "text/plain": [
       "\"\\nThe provided code snippet demonstrates fetching a dataset ('titanic') from OpenML using scikit-learn's `fetch_openml` function and storing it as a pandas DataFrame (`df`).\\n\\n**Explanation in Paragraph**:\\nThe code imports the necessary libraries, including pandas (`pd`) for data manipulation and scikit-learn's `fetch_openml` function to retrieve datasets from OpenML. It fetches the 'titanic' dataset with version 1 and loads it into a pandas DataFrame (`df`) using the `as_frame=True` parameter. The `info()` method called on `df` prints concise information about the DataFrame, including the number of non-null values in each column and the data types. This step ensures that the dataset is successfully loaded into memory and provides an overview of its structure and characteristics, facilitating further analysis or preprocessing tasks.\\n\\n**Explanation in Short**:\\nThe code fetches the 'titanic' dataset from OpenML using scikit-learn, stores it as a pandas DataFrame (`df`), and prints a summary of its information using `df.info()`. This confirms the dataset's loading and provides insights into its structure and attributes for subsequent data analysis or modeling tasks.\\n\""
      ]
     },
     "execution_count": 7,
     "metadata": {},
     "output_type": "execute_result"
    }
   ],
   "source": [
    "#Stroing a dataset into dataframes\n",
    "import pandas as pd\n",
    "from sklearn.datasets import fetch_openml  #fetch openml functionality\n",
    "df=fetch_openml('titanic',version=1,as_frame=True)['data']\n",
    "df.info()\n",
    "'''\n",
    "The code fetches the 'titanic' dataset from OpenML using scikit-learn, loads it into a pandas DataFrame (`df`), and prints a summary with `df.info()`, confirming successful loading and providing an overview of the dataset's structure for further analysis.\n",
    "'''"
   ]
  },
  {
   "cell_type": "code",
   "execution_count": 8,
   "metadata": {},
   "outputs": [
    {
     "data": {
      "text/plain": [
       "'\\nThe `df.isnull()` method checks every cell in the DataFrame `df` to see if it contains a missing value (NaN or None). It returns a DataFrame of the same shape as `df` where each cell is `True` if it is missing and `False` otherwise. This is useful for quickly identifying the presence of missing data in the dataset, which is essential for data cleaning and preprocessing tasks before analysis or modeling.\\n'"
      ]
     },
     "execution_count": 8,
     "metadata": {},
     "output_type": "execute_result"
    }
   ],
   "source": [
    "#finding missing values in datset\n",
    "df.isnull()\n",
    "'''\n",
    "The `df.isnull()` method checks every cell in the DataFrame `df` to see if it contains a missing value (NaN or None). It returns a DataFrame of the same shape as `df` where each cell is `True` if it is missing and `False` otherwise. This is useful for quickly identifying the presence of missing data in the dataset, which is essential for data cleaning and preprocessing tasks before analysis or modeling.\n",
    "'''"
   ]
  },
  {
   "cell_type": "code",
   "execution_count": 10,
   "metadata": {},
   "outputs": [
    {
     "data": {
      "text/plain": [
       "pclass          0\n",
       "name            0\n",
       "sex             0\n",
       "age           263\n",
       "sibsp           0\n",
       "parch           0\n",
       "ticket          0\n",
       "fare            1\n",
       "cabin        1014\n",
       "embarked        2\n",
       "boat          823\n",
       "body         1188\n",
       "home.dest     564\n",
       "dtype: int64"
      ]
     },
     "execution_count": 10,
     "metadata": {},
     "output_type": "execute_result"
    }
   ],
   "source": [
    "#summing the null values across every column\n",
    "'''\n",
    "`df.isnull().sum()` calculates and returns the total number of missing values (NaN or None) in each column of the DataFrame `df`. This provides a quick summary of missing data across all columns, aiding in prioritizing columns for data cleaning or imputation strategies during preprocessing.\n",
    "'''\n",
    "df.isnull().sum()"
   ]
  },
  {
   "cell_type": "code",
   "execution_count": 2,
   "metadata": {},
   "outputs": [
    {
     "data": {
      "image/png": "[encoded data removed]",
      "text/plain": [
       "<Figure size 640x480 with 1 Axes>"
      ]
     },
     "metadata": {},
     "output_type": "display_data"
    },
    {
     "name": "stdout",
     "output_type": "stream",
     "text": [
      "Size of the dataset before dropping body column: (5, 2)\n",
      "Size of the dataset after dropping body column: (5, 1)\n"
     ]
    },
    {
     "data": {
      "text/plain": [
       "\"\\nYour code efficiently handles missing values by first calculating and visualizing the percentage of null entries in each column using Seaborn. It generates a bar plot to highlight the proportion of missing data, making it easy to identify problematic columns. Upon identifying that the 'body' column has the highest percentage of missing values, the code drops this column from the DataFrame to clean the dataset. The dataset's shape is printed before and after dropping the column to confirm the change, ensuring that the DataFrame's modification is successfully sustained. This concise approach aids in both visualizing and managing missing data effectively.\\n\""
      ]
     },
     "execution_count": 2,
     "metadata": {},
     "output_type": "execute_result"
    }
   ],
   "source": [
    "import seaborn as sns\n",
    "import pandas as pd\n",
    "import numpy as np\n",
    "import matplotlib.pyplot as plt\n",
    "# Sample DataFrame for demonstration\n",
    "data = {'age': [25, np.nan, 30, np.nan, 35], 'body': [np.nan, np.nan, 'slim', 'athletic', 'average']}\n",
    "df = pd.DataFrame(data)\n",
    "\n",
    "# Visualize missing values with seaborn\n",
    "sns.set()\n",
    "\n",
    "# Calculate the percentage of missing values\n",
    "miss_val_per = (df.isnull().sum() / len(df)) * 100\n",
    "miss_val_per = miss_val_per.reset_index()\n",
    "miss_val_per.columns = ['column', 'percentage']\n",
    "\n",
    "# Plot the missing values\n",
    "miss_val_per.plot(kind='bar', x='column', y='percentage', title='Missing values in percentage')\n",
    "plt.ylabel('Percentage')\n",
    "plt.show()\n",
    "\n",
    "# Print the size of the dataset before dropping the 'body' column\n",
    "print(f'Size of the dataset before dropping body column: {df.shape}')\n",
    "\n",
    "# Drop the 'body' column\n",
    "df.drop('body', axis=1, inplace=True)\n",
    "\n",
    "# Print the size of the dataset after dropping the 'body' column\n",
    "print(f'Size of the dataset after dropping body column: {df.shape}')\n",
    "'''\n",
    "Your code efficiently handles missing values by first calculating and visualizing the percentage of null entries in each column using Seaborn. It generates a bar plot to highlight the proportion of missing data, making it easy to identify problematic columns. Upon identifying that the 'body' column has the highest percentage of missing values, the code drops this column from the DataFrame to clean the dataset. The dataset's shape is printed before and after dropping the column to confirm the change, ensuring that the DataFrame's modification is successfully sustained. This concise approach aids in both visualizing and managing missing data effectively.\n",
    "'''"
   ]
  },
  {
   "cell_type": "code",
   "execution_count": 3,
   "metadata": {},
   "outputs": [
    {
     "name": "stdout",
     "output_type": "stream",
     "text": [
      "Number of null values before imputing: 2\n",
      "Number of null values after imputing: 0\n"
     ]
    },
    {
     "data": {
      "text/plain": [
       "\"\\nIn this code, missing values in the 'age' column are addressed using `SimpleImputer` from the `sklearn.impute` module. Initially, the code prints the number of missing values in the 'age' column. The `SimpleImputer` is then configured to replace missing values with the mean of the non-missing values in the column. The `fit_transform` method is applied to the 'age' column to perform the imputation, replacing any `NaN` values with the calculated mean. After imputation, the code prints the number of missing values again, demonstrating that all missing entries in the 'age' column have been successfully filled. This method ensures that the data is complete, which is crucial for subsequent analysis or modeling.\\n\""
      ]
     },
     "execution_count": 3,
     "metadata": {},
     "output_type": "execute_result"
    }
   ],
   "source": [
    "# Treating the missing values\n",
    "from sklearn.impute import SimpleImputer\n",
    "import pandas as pd\n",
    "\n",
    "# Sample DataFrame for demonstration\n",
    "data = {'age': [25, None, 30, None, 35]}\n",
    "df = pd.DataFrame(data)\n",
    "\n",
    "# Check for null values before imputing\n",
    "print(f'Number of null values before imputing: {df[\"age\"].isnull().sum()}')\n",
    "\n",
    "# Creating and applying the SimpleImputer\n",
    "imputer = SimpleImputer(strategy='mean')\n",
    "df['age'] = imputer.fit_transform(df[['age']])\n",
    "\n",
    "# Check for null values after imputing\n",
    "print(f'Number of null values after imputing: {df[\"age\"].isnull().sum()}')\n",
    "'''\n",
    "In this code, missing values in the 'age' column are addressed using `SimpleImputer` from the `sklearn.impute` module. Initially, the code prints the number of missing values in the 'age' column. The `SimpleImputer` is then configured to replace missing values with the mean of the non-missing values in the column. The `fit_transform` method is applied to the 'age' column to perform the imputation, replacing any `NaN` values with the calculated mean. After imputation, the code prints the number of missing values again, demonstrating that all missing entries in the 'age' column have been successfully filled. This method ensures that the data is complete, which is crucial for subsequent analysis or modeling.\n",
    "'''"
   ]
  },
  {
   "cell_type": "code",
   "execution_count": 12,
   "metadata": {},
   "outputs": [],
   "source": [
    "# Data Preprocessing Template\n",
    "\n",
    "# Importing the libraries\n",
    "import numpy as np\n",
    "import matplotlib.pyplot as plt\n",
    "import pandas as pd\n",
    "\n",
    "# Importing the dataset\n",
    "dataset = pd.read_csv('Data.csv')\n",
    "X = dataset.iloc[:, :-1].values   #integer location based indexing\n",
    "y = dataset.iloc[:, -1].values    #selecting rows and columns by their integer position\n",
    "#This line selects all the columns except the last one\n",
    "#(which typically contain the features or predictors in the dataset) and stores them in X as a NumPy array.\n",
    "\n",
    "# Splitting the dataset into the Training set and Test set\n",
    "from sklearn.model_selection import train_test_split\n",
    "X_train, X_test, y_train, y_test = train_test_split(X, y, test_size = 0.2, random_state = 0)\n",
    "'''\n",
    "The provided code template is designed for basic data preprocessing. It begins by importing essential libraries: NumPy for numerical operations, Matplotlib for visualization, and Pandas for data handling. The dataset is read from a CSV file, with features (all columns except the last) assigned to `X` and the target variable (the last column) assigned to `y`. The dataset is then split into training and testing sets using `train_test_split` from `sklearn.model_selection`, allocating 80% of the data for training and 20% for testing. This ensures that the data is prepared for model training and evaluation in a structured manner.\n",
    "'''"
   ]
  },
  {
   "cell_type": "code",
   "execution_count": 13,
   "metadata": {},
   "outputs": [
    {
     "name": "stdout",
     "output_type": "stream",
     "text": [
      "[['France' 44.0 72000.0]\n",
      " ['Spain' 27.0 48000.0]\n",
      " ['Germany' 30.0 54000.0]\n",
      " ['Spain' 38.0 61000.0]\n",
      " ['Germany' 40.0 nan]\n",
      " ['France' 35.0 58000.0]\n",
      " ['Spain' nan 52000.0]\n",
      " ['France' 48.0 79000.0]\n",
      " ['Germany' 50.0 83000.0]\n",
      " ['France' 37.0 67000.0]]\n",
      "['No' 'Yes' 'No' 'No' 'Yes' 'Yes' 'No' 'Yes' 'No' 'Yes']\n",
      "[['France' 44.0 72000.0]\n",
      " ['Spain' 27.0 48000.0]\n",
      " ['Germany' 30.0 54000.0]\n",
      " ['Spain' 38.0 61000.0]\n",
      " ['Germany' 40.0 63777.77777777778]\n",
      " ['France' 35.0 58000.0]\n",
      " ['Spain' 38.77777777777778 52000.0]\n",
      " ['France' 48.0 79000.0]\n",
      " ['Germany' 50.0 83000.0]\n",
      " ['France' 37.0 67000.0]]\n",
      "[[1.0 0.0 0.0 44.0 72000.0]\n",
      " [0.0 0.0 1.0 27.0 48000.0]\n",
      " [0.0 1.0 0.0 30.0 54000.0]\n",
      " [0.0 0.0 1.0 38.0 61000.0]\n",
      " [0.0 1.0 0.0 40.0 63777.77777777778]\n",
      " [1.0 0.0 0.0 35.0 58000.0]\n",
      " [0.0 0.0 1.0 38.77777777777778 52000.0]\n",
      " [1.0 0.0 0.0 48.0 79000.0]\n",
      " [0.0 1.0 0.0 50.0 83000.0]\n",
      " [1.0 0.0 0.0 37.0 67000.0]]\n",
      "[0 1 0 0 1 1 0 1 0 1]\n",
      "[[0.0 0.0 1.0 38.77777777777778 52000.0]\n",
      " [0.0 1.0 0.0 40.0 63777.77777777778]\n",
      " [1.0 0.0 0.0 44.0 72000.0]\n",
      " [0.0 0.0 1.0 38.0 61000.0]\n",
      " [0.0 0.0 1.0 27.0 48000.0]\n",
      " [1.0 0.0 0.0 48.0 79000.0]\n",
      " [0.0 1.0 0.0 50.0 83000.0]\n",
      " [1.0 0.0 0.0 35.0 58000.0]]\n",
      "[[0.0 1.0 0.0 30.0 54000.0]\n",
      " [1.0 0.0 0.0 37.0 67000.0]]\n",
      "[0 1 0 0 1 1 0 1]\n",
      "[0 1]\n"
     ]
    }
   ],
   "source": [
    "# Data Preprocessing Tools\n",
    "\n",
    "# Importing the libraries\n",
    "import numpy as np\n",
    "import matplotlib.pyplot as plt\n",
    "import pandas as pd\n",
    "\n",
    "# Importing the dataset\n",
    "dataset = pd.read_csv('Data.csv')\n",
    "X = dataset.iloc[:, :-1].values\n",
    "y = dataset.iloc[:, -1].values\n",
    "print(X)\n",
    "print(y)\n",
    "\n",
    "# Taking care of missing data\n",
    "from sklearn.impute import SimpleImputer\n",
    "imputer = SimpleImputer(missing_values=np.nan, strategy='mean')\n",
    "imputer.fit(X[:, 1:3])\n",
    "X[:, 1:3] = imputer.transform(X[:, 1:3])\n",
    "print(X)\n",
    "\n",
    "# Encoding categorical data\n",
    "# Encoding the Independent Variable\n",
    "from sklearn.compose import ColumnTransformer\n",
    "from sklearn.preprocessing import OneHotEncoder\n",
    "ct = ColumnTransformer(transformers=[('encoder', OneHotEncoder(), [0])], remainder='passthrough')\n",
    "X = np.array(ct.fit_transform(X))\n",
    "print(X)\n",
    "# Encoding the Dependent Variable\n",
    "from sklearn.preprocessing import LabelEncoder\n",
    "le = LabelEncoder()\n",
    "y = le.fit_transform(y)\n",
    "print(y)\n",
    "\n",
    "# Splitting the dataset into the Training set and Test set\n",
    "from sklearn.model_selection import train_test_split\n",
    "X_train, X_test, y_train, y_test = train_test_split(X, y, test_size = 0.2, random_state = 1)\n",
    "print(X_train)\n",
    "print(X_test)\n",
    "print(y_train)\n",
    "print(y_test)\n",
    "'''\n",
    "The provided code performs comprehensive data preprocessing. It starts by importing necessary libraries: NumPy, Matplotlib, and Pandas. The dataset is loaded from a CSV file into a DataFrame, with features stored in `X` and the target variable in `y`. Missing data in `X` is addressed using `SimpleImputer`, replacing missing values with the mean of the respective columns. \n",
    "\n",
    "Next, categorical data is encoded: independent variables are one-hot encoded using `ColumnTransformer` and `OneHotEncoder`, transforming categorical columns into numerical format, and the dependent variable is label encoded using `LabelEncoder`. The dataset is then split into training and testing sets using `train_test_split`, allocating 80% of the data for training and 20% for testing. This process ensures the dataset is cleaned, encoded, and split appropriately for further analysis or model training.\n",
    "'''"
   ]
  },
  {
   "cell_type": "code",
   "execution_count": null,
   "metadata": {},
   "outputs": [],
   "source": []
  }
 ],
 "metadata": {
  "kernelspec": {
   "display_name": "Python 3",
   "language": "python",
   "name": "python3"
  },
  "language_info": {
   "codemirror_mode": {
    "name": "ipython",
    "version": 3
   },
   "file_extension": ".py",
   "mimetype": "text/x-python",
   "name": "python",
   "nbconvert_exporter": "python",
   "pygments_lexer": "ipython3",
   "version": "3.11.9"
  }
 },
 "nbformat": 4,
 "nbformat_minor": 2
}
