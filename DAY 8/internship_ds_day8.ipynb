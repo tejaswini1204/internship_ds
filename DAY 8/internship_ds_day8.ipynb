{
  "nbformat": 4,
  "nbformat_minor": 0,
  "metadata": {
    "colab": {
      "provenance": []
    },
    "kernelspec": {
      "name": "python3",
      "display_name": "Python 3"
    },
    "language_info": {
      "name": "python"
    }
  },
  "cells": [
    {
      "cell_type": "code",
      "execution_count": 1,
      "metadata": {
        "colab": {
          "base_uri": "https://localhost:8080/"
        },
        "id": "MoiIw3KcaBdx",
        "outputId": "8aa7a1b6-77f0-45b8-de78-ebfa7ded240e"
      },
      "outputs": [
        {
          "output_type": "stream",
          "name": "stdout",
          "text": [
            "[[4.9972973  3.38918919 1.45405405 0.24054054]\n",
            " [5.84390244 2.7097561  4.32926829 1.40731707]\n",
            " [6.90588235 3.09705882 5.70294118 2.07058824]]\n",
            "[1 1 0 2 0 2 0 1 1 1 2 1 1 1 1 0 1 1 0 0 1 1 0 0 1 0 0 1 1 0 2 1 0 1 2 1 0\n",
            " 1]\n"
          ]
        },
        {
          "output_type": "stream",
          "name": "stderr",
          "text": [
            "/usr/local/lib/python3.10/dist-packages/sklearn/cluster/_kmeans.py:870: FutureWarning: The default value of `n_init` will change from 10 to 'auto' in 1.4. Set the value of `n_init` explicitly to suppress the warning\n",
            "  warnings.warn(\n"
          ]
        }
      ],
      "source": [
        "#Clustering\n",
        "\n",
        "from sklearn.datasets import load_iris\n",
        "from sklearn.model_selection import train_test_split\n",
        "from sklearn.cluster import KMeans\n",
        "\n",
        "KM= KMeans(n_clusters=3, random_state=0)\n",
        "irs=load_iris()\n",
        "x=irs.data\n",
        "\n",
        "X_train,X_test=train_test_split(x,random_state=0)\n",
        "\n",
        "KM.fit(X_train)\n",
        "\n",
        "y_pred=KM.predict(X_test)\n",
        "\n",
        "center=KM.cluster_centers_\n",
        "\n",
        "print(center)\n",
        "print(y_pred)"
      ]
    },
    {
      "cell_type": "code",
      "source": [],
      "metadata": {
        "id": "IPDWxDs4cGMv"
      },
      "execution_count": null,
      "outputs": []
    }
  ]
}